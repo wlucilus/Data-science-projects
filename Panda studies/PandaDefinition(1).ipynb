{
  "metadata": {
    "language_info": {
      "codemirror_mode": {
        "name": "python",
        "version": 3
      },
      "file_extension": ".py",
      "mimetype": "text/x-python",
      "name": "python",
      "nbconvert_exporter": "python",
      "pygments_lexer": "ipython3",
      "version": "3.8"
    },
    "kernelspec": {
      "name": "python",
      "display_name": "Pyolite",
      "language": "python"
    }
  },
  "nbformat_minor": 4,
  "nbformat": 4,
  "cells": [
    {
      "cell_type": "code",
      "source": "#write your code here\n\n#\n#   HOW MANY PRINTS CAN ONE CELL GIVE?\n#\n\n\n\n#print('ta funcionando ou nao?')\n# let us import the Pandas Library\n#import pandas as pd\n\n#create a dictionary\ny = {'Student': ['David','Samuel', 'Jane', 'Mary'], 'Age': [1, 2, 3, 4], 'Country': ['UK', 'Canda', 'china', 'Usa'], \n      'Marks':[85, 75, 89, 76], 'Course':['python', 'Data structure','a','b']}\n\nycopied = {'Name': ['MRose','John', 'Jane', 'Mary'], 'ID': [1, 2, 3, 4], 'Department': ['Architect Group', 'Software Group', 'Design Team', 'Infrastructure'], \n      'Salary':[100000, 80000, 50000, 60000]}\n\n#print(y)\n#print(type(y))\n\ndf2 = pd.DataFrame(y)\ndf2\n\n#create a data frame\ndf = pd.DataFrame(ycopied)\ndf\n\n#print(type(df_y))\n\n#create a subset\n#partialDfY = df_y[['Student','Age','Country','Course', 'Marks']]",
      "metadata": {
        "trusted": true
      },
      "execution_count": 41,
      "outputs": [
        {
          "execution_count": 41,
          "output_type": "execute_result",
          "data": {
            "text/plain": "    Name  ID       Department  Salary\n0  MRose   1  Architect Group  100000\n1   John   2   Software Group   80000\n2   Jane   3      Design Team   50000\n3   Mary   4   Infrastructure   60000",
            "text/html": "<div>\n<style scoped>\n    .dataframe tbody tr th:only-of-type {\n        vertical-align: middle;\n    }\n\n    .dataframe tbody tr th {\n        vertical-align: top;\n    }\n\n    .dataframe thead th {\n        text-align: right;\n    }\n</style>\n<table border=\"1\" class=\"dataframe\">\n  <thead>\n    <tr style=\"text-align: right;\">\n      <th></th>\n      <th>Name</th>\n      <th>ID</th>\n      <th>Department</th>\n      <th>Salary</th>\n    </tr>\n  </thead>\n  <tbody>\n    <tr>\n      <th>0</th>\n      <td>MRose</td>\n      <td>1</td>\n      <td>Architect Group</td>\n      <td>100000</td>\n    </tr>\n    <tr>\n      <th>1</th>\n      <td>John</td>\n      <td>2</td>\n      <td>Software Group</td>\n      <td>80000</td>\n    </tr>\n    <tr>\n      <th>2</th>\n      <td>Jane</td>\n      <td>3</td>\n      <td>Design Team</td>\n      <td>50000</td>\n    </tr>\n    <tr>\n      <th>3</th>\n      <td>Mary</td>\n      <td>4</td>\n      <td>Infrastructure</td>\n      <td>60000</td>\n    </tr>\n  </tbody>\n</table>\n</div>"
          },
          "metadata": {}
        }
      ]
    },
    {
      "cell_type": "code",
      "source": "k = {'Name': ['MRose','John', 'Jane', 'Mary'], 'ID': [1, 2, 3, 4], 'Department': ['Architect Group', 'Software Group', 'Design Team', 'Infrastructure'], \n      'Salary':[100000, 80000, 50000, 60000]}\n\nycopied = {'Name': ['alphaMRose','John', 'Jane', 'Mary'], 'ID': [1, 2, 3, 4], 'Department': ['Architect Group', 'Software Group', 'Design Team', 'Infrastructure'], \n      'Salary':[100000, 80000, 50000, 60000]}\n\ny = {'Student': ['David','Samuel', 'Jane', 'Mary'], 'Age': [1, 2, 3, 4], 'Country': ['UK', 'Canda', 'china', 'Usa'], \n      'Marks':[85, 75, 89, 76], 'Course':['python', 'Data structure','a','b']}\n\n\nprint(x)\nprint(type(x))\n\n#casting the dictionary to a DataFrame\ndf2 = pd.DataFrame(y)\n\n#display the result df\ndf2",
      "metadata": {
        "trusted": true
      },
      "execution_count": 29,
      "outputs": [
        {
          "name": "stdout",
          "text": "{'Name': ['Rose', 'John', 'Jane', 'Mary'], 'ID': [1, 2, 3, 4], 'Department': ['Architect Group', 'Software Group', 'Design Team', 'Infrastructure'], 'Salary': [100000, 80000, 50000, 60000]}\n<class 'dict'>\n",
          "output_type": "stream"
        },
        {
          "execution_count": 36,
          "output_type": "execute_result",
          "data": {
            "text/plain": "  Student  Age Country  Marks          Course\n0   David    1      UK     85          python\n1  Samuel    2   Canda     75  Data structure\n2    Jane    3   china     89               a\n3    Mary    4     Usa     76               b",
            "text/html": "<div>\n<style scoped>\n    .dataframe tbody tr th:only-of-type {\n        vertical-align: middle;\n    }\n\n    .dataframe tbody tr th {\n        vertical-align: top;\n    }\n\n    .dataframe thead th {\n        text-align: right;\n    }\n</style>\n<table border=\"1\" class=\"dataframe\">\n  <thead>\n    <tr style=\"text-align: right;\">\n      <th></th>\n      <th>Student</th>\n      <th>Age</th>\n      <th>Country</th>\n      <th>Marks</th>\n      <th>Course</th>\n    </tr>\n  </thead>\n  <tbody>\n    <tr>\n      <th>0</th>\n      <td>David</td>\n      <td>1</td>\n      <td>UK</td>\n      <td>85</td>\n      <td>python</td>\n    </tr>\n    <tr>\n      <th>1</th>\n      <td>Samuel</td>\n      <td>2</td>\n      <td>Canda</td>\n      <td>75</td>\n      <td>Data structure</td>\n    </tr>\n    <tr>\n      <th>2</th>\n      <td>Jane</td>\n      <td>3</td>\n      <td>china</td>\n      <td>89</td>\n      <td>a</td>\n    </tr>\n    <tr>\n      <th>3</th>\n      <td>Mary</td>\n      <td>4</td>\n      <td>Usa</td>\n      <td>76</td>\n      <td>b</td>\n    </tr>\n  </tbody>\n</table>\n</div>"
          },
          "metadata": {}
        }
      ]
    },
    {
      "cell_type": "code",
      "source": "",
      "metadata": {},
      "execution_count": null,
      "outputs": []
    },
    {
      "cell_type": "code",
      "source": "",
      "metadata": {},
      "execution_count": null,
      "outputs": []
    }
  ]
}